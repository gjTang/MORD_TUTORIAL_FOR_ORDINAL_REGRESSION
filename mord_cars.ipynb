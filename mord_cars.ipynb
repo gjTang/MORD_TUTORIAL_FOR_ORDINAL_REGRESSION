{
 "cells": [
  {
   "cell_type": "markdown",
   "metadata": {},
   "source": [
    "# ORDINAL REGRESSION APPLIED TO CAR RATING"
   ]
  },
  {
   "cell_type": "markdown",
   "metadata": {},
   "source": [
    "## IMPORTING USEFUL LIBRARIES"
   ]
  },
  {
   "cell_type": "code",
   "execution_count": 1,
   "metadata": {
    "ExecuteTime": {
     "end_time": "2019-08-12T10:47:43.929045Z",
     "start_time": "2019-08-12T10:47:43.108074Z"
    }
   },
   "outputs": [],
   "source": [
    "import pandas as pd\n",
    "import numpy as np\n",
    "import matplotlib.pyplot as plt\n",
    "\n",
    "from sklearn.preprocessing import StandardScaler\n",
    "from sklearn.model_selection import train_test_split, GridSearchCV\n",
    "from sklearn.pipeline import Pipeline\n",
    "from sklearn import metrics\n",
    "from sklearn.linear_model import LogisticRegression, LinearRegression\n",
    "\n",
    "from mord import LogisticIT, LogisticAT, OrdinalRidge"
   ]
  },
  {
   "cell_type": "markdown",
   "metadata": {},
   "source": [
    "## DEFINING FUNCTIONS"
   ]
  },
  {
   "cell_type": "markdown",
   "metadata": {},
   "source": [
    "FUNCTION FOR DATABASE PREPARATION (ONE-HOT-ENCODING)"
   ]
  },
  {
   "cell_type": "code",
   "execution_count": 2,
   "metadata": {
    "ExecuteTime": {
     "end_time": "2019-08-12T10:47:45.819863Z",
     "start_time": "2019-08-12T10:47:45.816388Z"
    }
   },
   "outputs": [],
   "source": [
    "def prepare(df, listnum,listcat):\n",
    "    df_ready = df[listnum]\n",
    "    for c in listcat:\n",
    "        df_ready = pd.concat([df_ready, pd.get_dummies(df[c], drop_first=True, prefix=c)], axis=1)\n",
    "    return df_ready"
   ]
  },
  {
   "cell_type": "markdown",
   "metadata": {},
   "source": [
    "MAIN FUNCTION FOR MODEL EVALUATION"
   ]
  },
  {
   "cell_type": "code",
   "execution_count": 25,
   "metadata": {
    "ExecuteTime": {
     "end_time": "2019-08-12T11:02:54.250752Z",
     "start_time": "2019-08-12T11:02:54.244158Z"
    }
   },
   "outputs": [],
   "source": [
    "def oraculo(X, y, model, params={}):\n",
    "    (X_train, X_test, y_train, y_test) = train_test_split(X, y, test_size=.2, stratify=y, random_state=3001)\n",
    "    pipeline = Pipeline([('column', StandardScaler()),\n",
    "                         ('model', model)])\n",
    "    print('Estimador: ', model)\n",
    "    grid = GridSearchCV(pipeline, params, scoring='neg_mean_absolute_error', n_jobs=-1, cv=3, verbose=1)\n",
    "    grid.fit(X_train, y_train)\n",
    "    pred = grid.best_estimator_.predict(X_test)\n",
    "    print('Mean Absolute Error: %1.4f' % (metrics.mean_absolute_error(y_test,pred)))\n",
    "    print('Accuracy: %1.4f\\n' % (metrics.accuracy_score(y_test,np.round(pred).astype(int))))\n",
    "    print(metrics.classification_report(y_test,np.round(pred).astype(int)))\n",
    "    print('\\n\\n')"
   ]
  },
  {
   "cell_type": "markdown",
   "metadata": {},
   "source": [
    "### DATA LOADING AND PREPARATION"
   ]
  },
  {
   "cell_type": "code",
   "execution_count": 4,
   "metadata": {
    "ExecuteTime": {
     "end_time": "2019-08-12T10:47:55.316285Z",
     "start_time": "2019-08-12T10:47:55.313660Z"
    }
   },
   "outputs": [],
   "source": [
    "os.chdir('/path/to/file/')"
   ]
  },
  {
   "cell_type": "markdown",
   "metadata": {},
   "source": [
    "LOADING DATASET"
   ]
  },
  {
   "cell_type": "code",
   "execution_count": 5,
   "metadata": {
    "ExecuteTime": {
     "end_time": "2019-08-12T10:47:55.980453Z",
     "start_time": "2019-08-12T10:47:55.971547Z"
    }
   },
   "outputs": [],
   "source": [
    "df = pd.read_csv('car_evaluation.csv',sep=';')"
   ]
  },
  {
   "cell_type": "markdown",
   "metadata": {},
   "source": [
    "SELECTING NUMERIC AND CATEGORICAL FEATURES"
   ]
  },
  {
   "cell_type": "code",
   "execution_count": 6,
   "metadata": {
    "ExecuteTime": {
     "end_time": "2019-08-12T10:47:56.161096Z",
     "start_time": "2019-08-12T10:47:56.158981Z"
    }
   },
   "outputs": [],
   "source": [
    "listnum = ['evaluation']\n",
    "listcat = ['buying', 'maint', 'doors', 'persons', 'lug_boot', 'safety']"
   ]
  },
  {
   "cell_type": "markdown",
   "metadata": {},
   "source": [
    "PRE-PROCESSING"
   ]
  },
  {
   "cell_type": "code",
   "execution_count": 7,
   "metadata": {
    "ExecuteTime": {
     "end_time": "2019-08-12T10:47:58.306415Z",
     "start_time": "2019-08-12T10:47:58.292773Z"
    }
   },
   "outputs": [],
   "source": [
    "df_final = prepare(df,listnum,listcat)"
   ]
  },
  {
   "cell_type": "markdown",
   "metadata": {},
   "source": [
    "CHOOSING MODELS AND PARAMETERS"
   ]
  },
  {
   "cell_type": "code",
   "execution_count": 54,
   "metadata": {
    "ExecuteTime": {
     "end_time": "2019-08-12T11:26:12.246248Z",
     "start_time": "2019-08-12T11:26:12.241286Z"
    }
   },
   "outputs": [],
   "source": [
    "models = [LinearRegression(), LogisticRegression(), LogisticIT(), LogisticAT()]\n",
    "params = [{},{'model__max_iter': [100], 'model__C': [1.0]},\n",
    "          {'model__max_iter': [100], 'model__alpha': [1.0]},\n",
    "          {'model__max_iter': [100], 'model__alpha': [1.0]}]"
   ]
  },
  {
   "cell_type": "markdown",
   "metadata": {},
   "source": [
    "MODEL TRAINING AND EVALUATION"
   ]
  },
  {
   "cell_type": "code",
   "execution_count": 55,
   "metadata": {
    "ExecuteTime": {
     "end_time": "2019-08-12T11:26:15.969060Z",
     "start_time": "2019-08-12T11:26:12.871099Z"
    }
   },
   "outputs": [
    {
     "name": "stdout",
     "output_type": "stream",
     "text": [
      "Estimador:  LinearRegression(copy_X=True, fit_intercept=True, n_jobs=None, normalize=False)\n",
      "Fitting 3 folds for each of 1 candidates, totalling 3 fits\n"
     ]
    },
    {
     "name": "stderr",
     "output_type": "stream",
     "text": [
      "[Parallel(n_jobs=-1)]: Using backend LokyBackend with 80 concurrent workers.\n",
      "[Parallel(n_jobs=-1)]: Done   3 out of   3 | elapsed:    0.7s finished\n",
      "/disk1ssd/home/szm6548/anaconda3/lib/python3.6/site-packages/sklearn/metrics/classification.py:1437: UndefinedMetricWarning: Precision and F-score are ill-defined and being set to 0.0 in labels with no predicted samples.\n",
      "  'precision', 'predicted', average, warn_for)\n",
      "/disk1ssd/home/szm6548/anaconda3/lib/python3.6/site-packages/sklearn/metrics/classification.py:1439: UndefinedMetricWarning: Recall and F-score are ill-defined and being set to 0.0 in labels with no true samples.\n",
      "  'recall', 'true', average, warn_for)\n",
      "[Parallel(n_jobs=-1)]: Using backend LokyBackend with 80 concurrent workers.\n"
     ]
    },
    {
     "name": "stdout",
     "output_type": "stream",
     "text": [
      "{}\n",
      "Mean Absolute Error: 0.3769\n",
      "Accuracy: 0.7543\n",
      "\n",
      "              precision    recall  f1-score   support\n",
      "\n",
      "           0       0.00      0.00      0.00         0\n",
      "           1       0.99      0.76      0.86       242\n",
      "           2       0.52      0.99      0.68        77\n",
      "           3       0.00      0.00      0.00        14\n",
      "           4       0.00      0.00      0.00        13\n",
      "\n",
      "    accuracy                           0.75       346\n",
      "   macro avg       0.30      0.35      0.31       346\n",
      "weighted avg       0.81      0.75      0.76       346\n",
      "\n",
      "\n",
      "\n",
      "\n",
      "Estimador:  LogisticRegression(C=1.0, class_weight=None, dual=False, fit_intercept=True,\n",
      "                   intercept_scaling=1, l1_ratio=None, max_iter=100,\n",
      "                   multi_class='warn', n_jobs=None, penalty='l2',\n",
      "                   random_state=None, solver='warn', tol=0.0001, verbose=0,\n",
      "                   warm_start=False)\n",
      "Fitting 3 folds for each of 1 candidates, totalling 3 fits\n"
     ]
    },
    {
     "name": "stderr",
     "output_type": "stream",
     "text": [
      "[Parallel(n_jobs=-1)]: Done   3 out of   3 | elapsed:    0.7s finished\n",
      "/disk1ssd/home/szm6548/anaconda3/lib/python3.6/site-packages/sklearn/linear_model/logistic.py:432: FutureWarning: Default solver will be changed to 'lbfgs' in 0.22. Specify a solver to silence this warning.\n",
      "  FutureWarning)\n",
      "/disk1ssd/home/szm6548/anaconda3/lib/python3.6/site-packages/sklearn/linear_model/logistic.py:469: FutureWarning: Default multi_class will be changed to 'auto' in 0.22. Specify the multi_class option to silence this warning.\n",
      "  \"this warning.\", FutureWarning)\n",
      "[Parallel(n_jobs=-1)]: Using backend LokyBackend with 80 concurrent workers.\n"
     ]
    },
    {
     "name": "stdout",
     "output_type": "stream",
     "text": [
      "{'model__C': 1.0, 'model__max_iter': 100}\n",
      "Mean Absolute Error: 0.1503\n",
      "Accuracy: 0.8786\n",
      "\n",
      "              precision    recall  f1-score   support\n",
      "\n",
      "           1       0.95      0.96      0.95       242\n",
      "           2       0.70      0.83      0.76        77\n",
      "           3       0.83      0.36      0.50        14\n",
      "           4       0.75      0.23      0.35        13\n",
      "\n",
      "    accuracy                           0.88       346\n",
      "   macro avg       0.81      0.59      0.64       346\n",
      "weighted avg       0.88      0.88      0.87       346\n",
      "\n",
      "\n",
      "\n",
      "\n",
      "Estimador:  LogisticIT(alpha=1.0, max_iter=1000, verbose=0)\n",
      "Fitting 3 folds for each of 1 candidates, totalling 3 fits\n"
     ]
    },
    {
     "name": "stderr",
     "output_type": "stream",
     "text": [
      "[Parallel(n_jobs=-1)]: Done   3 out of   3 | elapsed:    0.7s finished\n",
      "[Parallel(n_jobs=-1)]: Using backend LokyBackend with 80 concurrent workers.\n"
     ]
    },
    {
     "name": "stdout",
     "output_type": "stream",
     "text": [
      "{'model__alpha': 1.0, 'model__max_iter': 100}\n",
      "Mean Absolute Error: 0.0954\n",
      "Accuracy: 0.9046\n",
      "\n",
      "              precision    recall  f1-score   support\n",
      "\n",
      "           1       0.96      0.96      0.96       242\n",
      "           2       0.80      0.84      0.82        77\n",
      "           3       0.47      0.50      0.48        14\n",
      "           4       1.00      0.62      0.76        13\n",
      "\n",
      "    accuracy                           0.90       346\n",
      "   macro avg       0.81      0.73      0.76       346\n",
      "weighted avg       0.91      0.90      0.90       346\n",
      "\n",
      "\n",
      "\n",
      "\n",
      "Estimador:  LogisticAT(alpha=1.0, max_iter=1000, verbose=0)\n",
      "Fitting 3 folds for each of 1 candidates, totalling 3 fits\n",
      "{'model__alpha': 1.0, 'model__max_iter': 100}\n",
      "Mean Absolute Error: 0.0925\n",
      "Accuracy: 0.9075\n",
      "\n",
      "              precision    recall  f1-score   support\n",
      "\n",
      "           1       0.96      0.96      0.96       242\n",
      "           2       0.83      0.84      0.84        77\n",
      "           3       0.50      0.71      0.59        14\n",
      "           4       1.00      0.46      0.63        13\n",
      "\n",
      "    accuracy                           0.91       346\n",
      "   macro avg       0.82      0.75      0.76       346\n",
      "weighted avg       0.92      0.91      0.91       346\n",
      "\n",
      "\n",
      "\n",
      "\n"
     ]
    },
    {
     "name": "stderr",
     "output_type": "stream",
     "text": [
      "[Parallel(n_jobs=-1)]: Done   3 out of   3 | elapsed:    0.7s finished\n"
     ]
    }
   ],
   "source": [
    "for m,p in zip(models, params):\n",
    "    oraculo(df_final.drop('evaluation',axis=1), df_final['evaluation'], m, p)"
   ]
  },
  {
   "cell_type": "markdown",
   "metadata": {},
   "source": [
    "PLOT A COMPARISON OF MODEL PERFORMANCES"
   ]
  },
  {
   "cell_type": "code",
   "execution_count": 113,
   "metadata": {
    "ExecuteTime": {
     "end_time": "2019-08-12T15:12:05.681164Z",
     "start_time": "2019-08-12T15:12:05.468031Z"
    }
   },
   "outputs": [
    {
     "data": {
      "text/plain": [
       "Text(0, 0.5, 'MAE')"
      ]
     },
     "execution_count": 113,
     "metadata": {},
     "output_type": "execute_result"
    },
    {
     "data": {
      "image/png": "[encoded data removed]",
      "text/plain": [
       "<Figure size 864x288 with 2 Axes>"
      ]
     },
     "metadata": {
      "needs_background": "light"
     },
     "output_type": "display_data"
    }
   ],
   "source": [
    "fig, ax = plt.subplots(1, 2, figsize=(12, 4))\n",
    "pd.DataFrame({'Linear Regression':[0.7543],'Logistic Regression':[0.8786],'ITLogistic':[0.9046],'ATLogistic':[0.9075]}).plot(kind='bar', cmap='seismic',ax=ax[0])\n",
    "pd.DataFrame({'Linear Regression':[0.3769],'Logistic Regression':[0.1503],'MORD ITLogistic':[0.0954],'MORD AT Logistic':[0.0925]}).plot(kind='bar', cmap='seismic', ax=ax[1])\n",
    "ax[0].title.set_text('Average accuracy')\n",
    "ax[1].title.set_text('Average mean absolute error')\n",
    "ax[0].get_legend().remove()\n",
    "ax[1].legend(bbox_to_anchor=(.2, -0.1), fontsize = 16.0)\n",
    "ax[0].axes.get_xaxis().set_visible(False)\n",
    "ax[1].axes.get_xaxis().set_visible(False)\n",
    "ax[0].set_ylabel('accuracy')\n",
    "ax[1].set_ylabel('MAE')"
   ]
  }
 ],
 "metadata": {
  "kernelspec": {
   "display_name": "Python 3",
   "language": "python",
   "name": "python3"
  },
  "language_info": {
   "codemirror_mode": {
    "name": "ipython",
    "version": 3
   },
   "file_extension": ".py",
   "mimetype": "text/x-python",
   "name": "python",
   "nbconvert_exporter": "python",
   "pygments_lexer": "ipython3",
   "version": "3.6.9"
  },
  "toc": {
   "base_numbering": 1,
   "nav_menu": {},
   "number_sections": true,
   "sideBar": true,
   "skip_h1_title": false,
   "title_cell": "Table of Contents",
   "title_sidebar": "Contents",
   "toc_cell": false,
   "toc_position": {},
   "toc_section_display": true,
   "toc_window_display": false
  }
 },
 "nbformat": 4,
 "nbformat_minor": 2
}
